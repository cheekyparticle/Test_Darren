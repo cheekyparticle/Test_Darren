{
 "cells": [
  {
   "cell_type": "markdown",
   "metadata": {},
   "source": [
    "## This notebook goes through how to call functions that return the binned nuclear recoil spectrum for a future Xenon direct detection experiment. "
   ]
  },
  {
   "cell_type": "markdown",
   "metadata": {},
   "source": [
    " First we import the polynomials, this uses the following files:\n",
    " - All files in the directory \"Polys\", these are were the polynomials reside, they approximate the response expected in a future experiment. \n",
    " - ipol.config file tells the code which parameters are independent and which give rise to interference terms. \n",
    " - config.dat tells the code how to sum the independent contributions, the numbers after the # symbol tells the code which bins to consider. "
   ]
  },
  {
   "cell_type": "code",
   "execution_count": 1,
   "metadata": {},
   "outputs": [
    {
     "name": "stdout",
     "output_type": "stream",
     "text": [
      "['Polys/ipol_All_sub2', 'Polys/ipol_All_sub0', 'Polys/ipol_All_sub4', 'Polys/ipol_All_sub6', 'Polys/ipol_All_sub5', 'Polys/ipol_All_sub13', 'Polys/ipol_All_sub17', 'Polys/ipol_All_sub14', 'Polys/ipol_All_sub7', 'Polys/ipol_All_sub15', 'Polys/ipol_All_sub8', 'Polys/ipol_All_sub3', 'Polys/ipol_All_sub16', 'Polys/ipol_All_sub18', 'Polys/ipol_All_sub9', 'Polys/ipol_All_sub1', 'Polys/ipol_All_sub11', 'Polys/ipol_All_sub10', 'Polys/ipol_All_sub12']\n",
      "\n",
      "Visit us on http://professor.hepforge.org/\n",
      "Please cite arXiv:0907.2973 [hep-ph]\n",
      "                                          2019-07-29 22:17:01\n",
      " ______           __                            _____ _____\n",
      " | ___ \\         / _|                          |_   _|_   _|\n",
      " | |_/ / __ ___ | |_ ___  ___ ___  ___  _ __     | |   | |\n",
      " |  __/ '__/ _ \\|  _/ _ \\/ __/ __|/ _ \\| '__|    | |   | |\n",
      " | |  | | | (_) | ||  __/\\__ \\__ \\ (_) | |      _| |_ _| |_\n",
      " |_|  |_|  \\___/|_| \\___||___/___/\\___/|_|     |_____|_____|\n",
      "\n",
      " Andy Buckley, Holger Schulz                          v2.3.0\n",
      " Copyright 2015-2018\n",
      "\n",
      "\n",
      "['Polys/ipol_All_sub2', 'Polys/ipol_All_sub0', 'Polys/ipol_All_sub4', 'Polys/ipol_All_sub6', 'Polys/ipol_All_sub5', 'Polys/ipol_All_sub13', 'Polys/ipol_All_sub17', 'Polys/ipol_All_sub14', 'Polys/ipol_All_sub7', 'Polys/ipol_All_sub15', 'Polys/ipol_All_sub8', 'Polys/ipol_All_sub3', 'Polys/ipol_All_sub16', 'Polys/ipol_All_sub18', 'Polys/ipol_All_sub9', 'Polys/ipol_All_sub1', 'Polys/ipol_All_sub11', 'Polys/ipol_All_sub10', 'Polys/ipol_All_sub12']\n",
      "[0.800409, -5.998977, -0.999268, -1.999196]\n",
      "[4.185838, -3.000478, 2.999724, 1.99197]\n",
      "here [6, 26]\n",
      "{'/DM/XENON/counts': [0, 0, 0, 0, 0, 0, 0, 0, 0, 0, 0, 0, 0, 0, 0, 0, 0, 0, 0, 0]}\n"
     ]
    }
   ],
   "source": [
    "import Xenon as Xe # Loads the polynomials in a python script. "
   ]
  },
  {
   "cell_type": "markdown",
   "metadata": {},
   "source": [
    "- Now we have two functions built into the Xe module, the most important is ret_ipol(PP) takes the parameter point (PP) as an argument. PP is a python dictionary, which you might want to revise how they work. "
   ]
  },
  {
   "cell_type": "code",
   "execution_count": 2,
   "metadata": {},
   "outputs": [
    {
     "name": "stdout",
     "output_type": "stream",
     "text": [
      "{'c1': -6.29892585, 'c10': -2.0991558, 'c6': -1.0492314, 'mdm': 0.84042945}\n"
     ]
    }
   ],
   "source": [
    "print Xe.PP"
   ]
  },
  {
   "cell_type": "markdown",
   "metadata": {},
   "source": [
    "- We see here that the parameter values are associated with their name. To change the value, you simply do the following"
   ]
  },
  {
   "cell_type": "code",
   "execution_count": 3,
   "metadata": {},
   "outputs": [],
   "source": [
    "Xe.PP['c1']=-2.226\n",
    "Xe.PP['mdm']=0.969\n"
   ]
  },
  {
   "cell_type": "code",
   "execution_count": 4,
   "metadata": {},
   "outputs": [
    {
     "name": "stdout",
     "output_type": "stream",
     "text": [
      "{'c1': -2.226, 'c10': -2.0991558, 'c6': -1.0492314, 'mdm': 0.969}\n"
     ]
    }
   ],
   "source": [
    "print Xe.PP"
   ]
  },
  {
   "cell_type": "markdown",
   "metadata": {},
   "source": [
    "- Okay so now lets see what the ret_ipol function looks like"
   ]
  },
  {
   "cell_type": "code",
   "execution_count": 5,
   "metadata": {},
   "outputs": [
    {
     "data": {
      "text/plain": [
       "{'/DM/XENON/counts': [14474106.944300907,\n",
       "  0,\n",
       "  0,\n",
       "  0,\n",
       "  0,\n",
       "  0,\n",
       "  0,\n",
       "  0,\n",
       "  0,\n",
       "  0,\n",
       "  0,\n",
       "  0,\n",
       "  0,\n",
       "  0,\n",
       "  0,\n",
       "  0,\n",
       "  0,\n",
       "  0,\n",
       "  0,\n",
       "  0]}"
      ]
     },
     "execution_count": 5,
     "metadata": {},
     "output_type": "execute_result"
    }
   ],
   "source": [
    "Xe.ret_ipol(Xe.PP)"
   ]
  },
  {
   "cell_type": "markdown",
   "metadata": {},
   "source": [
    "- It seems to work, but we have precisely zero in each bin. This is because the mass for this PP is too low to provoke a readable recoil. \n",
    "- This can be understood when one remembers that our galaxy has an escape veloctiy $v_{esc}$.\n",
    "- From 2-body kinematics, the minimum velocity required to provoke a recoil of $E_R$, is given by $$v_{\\min }=\\sqrt{m_{N} E_{R} / 2 \\mu_{N}^{2}}$$\n",
    "- You can use this to try and find an estimate for the escape velocity we have used in this calculation.  \n",
    "- It might be easier to do by making a function that takes in parameters directly, like the one below. "
   ]
  },
  {
   "cell_type": "code",
   "execution_count": 6,
   "metadata": {},
   "outputs": [],
   "source": [
    "def total_response(mass, c1):\n",
    "    Xe.PP['mdm']=mass\n",
    "    Xe.PP['c1']=c1\n",
    "    return sum(Xe.ret_ipol(Xe.PP)['/DM/XENON/counts'])"
   ]
  },
  {
   "cell_type": "markdown",
   "metadata": {},
   "source": [
    "- You may have noticed that the parameters are input on a logarithmic scale. If this is something you want to change, its simple enough. "
   ]
  },
  {
   "cell_type": "code",
   "execution_count": 7,
   "metadata": {},
   "outputs": [],
   "source": [
    "def set_coeffs(mass, c1):\n",
    "    import numpy as np\n",
    "    Xe.PP['mdm']=np.log10(mass)\n",
    "    Xe.PP['c1']=np.log10(c1) \n",
    "    return"
   ]
  },
  {
   "cell_type": "markdown",
   "metadata": {},
   "source": [
    "- You can even write a function to create new PPs"
   ]
  },
  {
   "cell_type": "code",
   "execution_count": 8,
   "metadata": {},
   "outputs": [],
   "source": [
    "def new_PP(mdm, c1):\n",
    "    import numpy as np\n",
    "    PP_temp = {}\n",
    "    PP_temp = {'mdm':np.log10(mdm), 'c1':np.log10(c1), 'c6':Xe.PP['c6'],\n",
    "              'c10':Xe.PP['c10']}\n",
    "    return PP_temp"
   ]
  },
  {
   "cell_type": "code",
   "execution_count": 9,
   "metadata": {},
   "outputs": [
    {
     "data": {
      "text/plain": [
       "{'c1': -5.0, 'c10': -2.0991558, 'c6': -1.0492314, 'mdm': 2.0}"
      ]
     },
     "execution_count": 9,
     "metadata": {},
     "output_type": "execute_result"
    }
   ],
   "source": [
    "new_PP(100, 1e-5)"
   ]
  },
  {
   "cell_type": "markdown",
   "metadata": {},
   "source": [
    "- Where above we have used the already set values for c10 and c6 because where not using them at the moment. \n",
    "- These values are just above the minimum value trained under. \n",
    "- You can always check the polynomial ranges by using the following command"
   ]
  },
  {
   "cell_type": "code",
   "execution_count": 10,
   "metadata": {},
   "outputs": [
    {
     "name": "stdout",
     "output_type": "stream",
     "text": [
      "[4.185838, -3.000478, 2.999724, 1.99197] [0.800409, -5.998977, -0.999268, -1.999196]\n"
     ]
    }
   ],
   "source": [
    "print Xe.PMAX, Xe.PMIN"
   ]
  },
  {
   "cell_type": "markdown",
   "metadata": {},
   "source": [
    "- Which in fact isn't all that helpful if you don't know what parameter each entry stands for. \n",
    "- We can list the parameters by"
   ]
  },
  {
   "cell_type": "code",
   "execution_count": 11,
   "metadata": {},
   "outputs": [
    {
     "data": {
      "text/plain": [
       "['mdm', 'c1', 'c6', 'c10']"
      ]
     },
     "execution_count": 11,
     "metadata": {},
     "output_type": "execute_result"
    }
   ],
   "source": [
    "Xe.SIGNALS[Xe.SIGNALS.keys()[0]].pnames"
   ]
  },
  {
   "cell_type": "markdown",
   "metadata": {},
   "source": [
    "- And find out the limits of each parameter by"
   ]
  },
  {
   "cell_type": "code",
   "execution_count": 12,
   "metadata": {},
   "outputs": [
    {
     "data": {
      "text/plain": [
       "0.800409"
      ]
     },
     "execution_count": 12,
     "metadata": {},
     "output_type": "execute_result"
    }
   ],
   "source": [
    "Xe.SIGNALS[Xe.SIGNALS.keys()[0]].limits['mdm'][0] "
   ]
  },
  {
   "cell_type": "code",
   "execution_count": 13,
   "metadata": {},
   "outputs": [
    {
     "data": {
      "text/plain": [
       "4.185838"
      ]
     },
     "execution_count": 13,
     "metadata": {},
     "output_type": "execute_result"
    }
   ],
   "source": [
    "Xe.SIGNALS[Xe.SIGNALS.keys()[0]].limits['mdm'][1] "
   ]
  },
  {
   "cell_type": "markdown",
   "metadata": {},
   "source": [
    "- The second important function allows you to plot the spectrum.\n",
    "- It takes logarthmic inputs "
   ]
  },
  {
   "cell_type": "code",
   "execution_count": 15,
   "metadata": {},
   "outputs": [
    {
     "data": {
      "image/png": "[encoded data removed]",
      "text/plain": [
       "<Figure size 432x288 with 1 Axes>"
      ]
     },
     "metadata": {},
     "output_type": "display_data"
    }
   ],
   "source": [
    "Xe.plot_ipol(mdm=1.0, c1=-5.0)"
   ]
  },
  {
   "cell_type": "markdown",
   "metadata": {},
   "source": [
    "## Building an Exclusion limit \n",
    "\n",
    "- When building an experiment, you want to know how sensitive it will be given a certain setup. This can help you decide on what improvements are necessary to make a strong physics case. \n",
    "- A popular way to access this in direct dark matter detection is to estimate the exclusion limit your experiment will be able to put on the parameter space, assuming no DM signal is detected. \n",
    "- Statistically, direct detection can be represented as a counting experiment with its probability described by the Poisson distribution\n",
    "\n",
    "$$\\mathcal{P}\\left(N_{\\mathrm{obs}} | N_{\\mathrm{th}}\\right)=\\frac{N_{\\mathrm{th}}^{N_{\\mathrm{obs}}} e^{-N_{\\mathrm{th}}}}{N_{\\mathrm{obs}} !}$$\n",
    "\n",
    "- where $N_{\\mathrm{th}}=N_{\\mathrm{DM}}+N_{\\mathrm{bk}}$, is the theoretical counts expected for a parameter point $\\Theta$ and $N_{\\mathrm{obs}}$ is the observed counts.\n",
    "- Often one wants to find the 90% confidence level, i.e. that 90% of experiments would have detected more events given a theoretical expectation $N_{\\mathrm{th}}$,\n",
    "\n",
    "$$\\sum_{m=N_{\\mathrm{obs}}+1}^{\\infty} \\mathcal{P}\\left(m | N_{b}, \\Theta, \\mathcal{M}_{i}\\right)=0.9$$ \n",
    "\n",
    "- Assuming no background, $N_{\\mathrm{bk}}=0.0$ and no observed events $N_{\\mathrm{obs}}=0.0$, show that the 90% confidence limit corresponds to $N_{\\mathrm{DM}}=2.303$\n",
    "\n",
    "- Your immediate goal is to use the functions given above to take a mass value and return the c1 parameter value that corresponds to $N_{\\mathrm{DM}}=2.303$.\n",
    "\n",
    "- After that, you can do it for a series of mass values to get an exclusion limit similar to the one shown below.  "
   ]
  },
  {
   "cell_type": "code",
   "execution_count": 49,
   "metadata": {},
   "outputs": [
    {
     "data": {
      "text/plain": [
       "Text(0,0.5,'c1')"
      ]
     },
     "execution_count": 49,
     "metadata": {},
     "output_type": "execute_result"
    },
    {
     "data": {
      "image/png": "[encoded data removed]",
      "text/plain": [
       "<Figure size 432x288 with 1 Axes>"
      ]
     },
     "metadata": {},
     "output_type": "display_data"
    }
   ],
   "source": [
    "import numpy as np \n",
    "import matplotlib.pyplot as plt\n",
    "\n",
    "data_30=np.genfromtxt('exclusion_Xe_30keV.dat', delimiter=' ')\n",
    "plt.loglog(data_30[:,0], data_30[:,1])\n",
    "plt.xlabel('mass [GeV]')\n",
    "plt.ylabel('c1')"
   ]
  },
  {
   "cell_type": "code",
   "execution_count": null,
   "metadata": {},
   "outputs": [],
   "source": []
  }
 ],
 "metadata": {
  "kernelspec": {
   "display_name": "Python 2",
   "language": "python",
   "name": "python2"
  },
  "language_info": {
   "codemirror_mode": {
    "name": "ipython",
    "version": 2
   },
   "file_extension": ".py",
   "mimetype": "text/x-python",
   "name": "python",
   "nbconvert_exporter": "python",
   "pygments_lexer": "ipython2",
   "version": "2.7.12"
  }
 },
 "nbformat": 4,
 "nbformat_minor": 2
}
